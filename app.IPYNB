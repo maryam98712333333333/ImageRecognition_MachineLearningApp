{
 "cells": [
  {
   "cell_type": "markdown",
   "metadata": {
    "notebookRunGroups": {
     "groupValue": "1"
    }
   },
   "source": [
    "# Import Libraries"
   ]
  },
  {
   "cell_type": "code",
   "execution_count": 9,
   "metadata": {},
   "outputs": [],
   "source": [
    "import os\n",
    "import cv2\n",
    "import numpy as np\n",
    "import tensorflow as tf\n",
    "from tensorflow.keras.models import Sequential\n",
    "from tensorflow.keras.layers import Conv2D, MaxPooling2D, Flatten, Dense"
   ]
  },
  {
   "cell_type": "markdown",
   "metadata": {},
   "source": [
    "# CREATING DIRETORIES FOR CAT & DOG CLASSIFICATION "
   ]
  },
  {
   "cell_type": "code",
   "execution_count": 10,
   "metadata": {},
   "outputs": [],
   "source": [
    "os.makedirs('dataset/cats', exist_ok=True)\n",
    "os.makedirs('dataset/dogs', exist_ok=True)"
   ]
  },
  {
   "cell_type": "markdown",
   "metadata": {},
   "source": [
    "# Loding image and check Image if load successfull & resize Image"
   ]
  },
  {
   "cell_type": "code",
   "execution_count": 11,
   "metadata": {},
   "outputs": [],
   "source": [
    "image = cv2.imread('./images/Abyssinian_1.jpg')\n",
    "\n",
    "if image is not None:\n",
    "    # Resize the image\n",
    "    new_image = cv2.resize(image, (100, 100))\n",
    "    \n",
    "    # Display the original and resized images\n",
    "    cv2.imshow('Original Image', image)\n",
    "    cv2.imshow('Resized Image', new_image)\n",
    "    cv2.waitKey(0)\n",
    "    cv2.destroyAllWindows()\n",
    "else:\n",
    "    print(\"Failed to load the image.\")"
   ]
  },
  {
   "cell_type": "markdown",
   "metadata": {},
   "source": [
    "# Generating synthetic For at "
   ]
  },
  {
   "cell_type": "code",
   "execution_count": 12,
   "metadata": {},
   "outputs": [],
   "source": [
    "# Generate synthetic cat images\n",
    "for i in range(1000):\n",
    "    cat = np.random.randint(0, 256, (100, 100, 3), dtype=np.uint8)\n",
    "    cv2.imwrite(f'dataset/cats/cat_{i}.jpg', cat)\n"
   ]
  },
  {
   "cell_type": "markdown",
   "metadata": {},
   "source": [
    "# Generating sythetic for DOG"
   ]
  },
  {
   "cell_type": "code",
   "execution_count": 13,
   "metadata": {},
   "outputs": [],
   "source": [
    "\n",
    "# Generate synthetic dog images\n",
    "for i in range(1000):\n",
    "    dog = np.random.randint(0, 256, (100, 100, 3), dtype=np.uint8)\n",
    "    cv2.imwrite(f'dataset/dogs/dog_{i}.jpg', dog)"
   ]
  },
  {
   "cell_type": "markdown",
   "metadata": {},
   "source": [
    "# Defining the CNN model"
   ]
  },
  {
   "cell_type": "code",
   "execution_count": 14,
   "metadata": {},
   "outputs": [],
   "source": [
    "# Define the CNN model\n",
    "model = Sequential()\n",
    "model.add(Conv2D(32, (3, 3), activation='relu', input_shape=(100, 100, 3)))\n",
    "model.add(MaxPooling2D((2, 2)))\n",
    "model.add(Conv2D(64, (3, 3), activation='relu'))\n",
    "model.add(MaxPooling2D((2, 2)))\n",
    "model.add(Flatten())\n",
    "model.add(Dense(64, activation='relu'))\n",
    "model.add(Dense(1, activation='sigmoid'))"
   ]
  },
  {
   "cell_type": "markdown",
   "metadata": {},
   "source": [
    "\n",
    "# Compile the model"
   ]
  },
  {
   "cell_type": "code",
   "execution_count": 15,
   "metadata": {},
   "outputs": [],
   "source": [
    "model.compile(optimizer='adam', loss='binary_crossentropy', metrics=['accuracy'])\n"
   ]
  },
  {
   "cell_type": "markdown",
   "metadata": {},
   "source": [
    "# Preprocess the images and labels"
   ]
  },
  {
   "cell_type": "code",
   "execution_count": 16,
   "metadata": {},
   "outputs": [
    {
     "name": "stdout",
     "output_type": "stream",
     "text": [
      "Found 2000 images belonging to 2 classes.\n"
     ]
    }
   ],
   "source": [
    "image_generator = tf.keras.preprocessing.image.ImageDataGenerator(rescale=1./255)\n",
    "train_data_gen = image_generator.flow_from_directory(\n",
    "    'dataset',\n",
    "    target_size=(100, 100),\n",
    "    batch_size=32,\n",
    "    class_mode='binary',\n",
    "    shuffle=True\n",
    ")"
   ]
  },
  {
   "cell_type": "markdown",
   "metadata": {},
   "source": [
    "# Train the model"
   ]
  },
  {
   "cell_type": "code",
   "execution_count": 17,
   "metadata": {},
   "outputs": [
    {
     "name": "stdout",
     "output_type": "stream",
     "text": [
      "Epoch 1/10\n",
      "63/63 [==============================] - 35s 504ms/step - loss: 0.7292 - accuracy: 0.5030\n",
      "Epoch 2/10\n",
      "63/63 [==============================] - 24s 380ms/step - loss: 0.6932 - accuracy: 0.5000\n",
      "Epoch 3/10\n",
      "63/63 [==============================] - 32s 512ms/step - loss: 0.6932 - accuracy: 0.4830\n",
      "Epoch 4/10\n",
      "63/63 [==============================] - 37s 582ms/step - loss: 0.6932 - accuracy: 0.4780\n",
      "Epoch 5/10\n",
      "63/63 [==============================] - 58s 919ms/step - loss: 0.6932 - accuracy: 0.4835\n",
      "Epoch 6/10\n",
      "63/63 [==============================] - 42s 647ms/step - loss: 0.6932 - accuracy: 0.4910\n",
      "Epoch 7/10\n",
      "63/63 [==============================] - 38s 594ms/step - loss: 0.6932 - accuracy: 0.4850\n",
      "Epoch 8/10\n",
      "63/63 [==============================] - 29s 458ms/step - loss: 0.6932 - accuracy: 0.4925\n",
      "Epoch 9/10\n",
      "63/63 [==============================] - 27s 428ms/step - loss: 0.6932 - accuracy: 0.4910\n",
      "Epoch 10/10\n",
      "63/63 [==============================] - 29s 455ms/step - loss: 0.6932 - accuracy: 0.4830\n"
     ]
    },
    {
     "data": {
      "text/plain": [
       "<keras.src.callbacks.History at 0x2565ef8c5b0>"
      ]
     },
     "execution_count": 17,
     "metadata": {},
     "output_type": "execute_result"
    }
   ],
   "source": [
    "model.fit(train_data_gen, epochs=10)"
   ]
  },
  {
   "cell_type": "markdown",
   "metadata": {},
   "source": [
    "# Load and preprocess a new image"
   ]
  },
  {
   "cell_type": "code",
   "execution_count": 18,
   "metadata": {},
   "outputs": [],
   "source": [
    "new_image = cv2.imread('./images/Abyssinian_1.jpg')\n",
    "new_image = cv2.resize(new_image, (100, 100))\n",
    "new_image = np.expand_dims(new_image, axis=0) / 255.0"
   ]
  },
  {
   "cell_type": "markdown",
   "metadata": {},
   "source": [
    "# Identify Image "
   ]
  },
  {
   "cell_type": "code",
   "execution_count": 19,
   "metadata": {},
   "outputs": [
    {
     "name": "stdout",
     "output_type": "stream",
     "text": [
      "1/1 [==============================] - 1s 797ms/step\n",
      "It's a CAT! ------- Machine Learning Identified Image \n"
     ]
    }
   ],
   "source": [
    "prediction = model.predict(new_image)\n",
    "if prediction[0] > 0.5:\n",
    "    print(\"It's a DOG! ------- Machine Learning Identified Image \")\n",
    "else:\n",
    "    print(\"It's a CAT! ------- Machine Learning Identified Image \")\n",
    "    "
   ]
  }
 ],
 "metadata": {
  "kernelspec": {
   "display_name": "Python 3",
   "language": "python",
   "name": "python3"
  },
  "language_info": {
   "codemirror_mode": {
    "name": "ipython",
    "version": 3
   },
   "file_extension": ".py",
   "mimetype": "text/x-python",
   "name": "python",
   "nbconvert_exporter": "python",
   "pygments_lexer": "ipython3",
   "version": "3.9.0"
  }
 },
 "nbformat": 4,
 "nbformat_minor": 2
}
